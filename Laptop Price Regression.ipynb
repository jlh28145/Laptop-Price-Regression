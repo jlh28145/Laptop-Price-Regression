{
 "cells": [
  {
   "cell_type": "code",
   "execution_count": null,
   "metadata": {},
   "outputs": [],
   "source": [
    "import pandas as pd \n",
    "import numpy as np\n",
    "\n",
    "# read in all our data\n",
    "laptop_train = pd.read_csv(\"datasets/laptops_train.csv\")\n",
    "laptop_test = pd.read_csv(\"datasets/laptops_test.csv\")\n",
    "\n",
    "# set seed for reproducibility\n",
    "np.random.seed(0)\n",
    "\n",
    "#Viewing Data\n",
    "print(laptop_train.head())\n",
    "print(laptop_test.head())"
   ]
  },
  {
   "cell_type": "code",
   "execution_count": null,
   "metadata": {},
   "outputs": [],
   "source": [
    "#Combining Train and Test Data for Data Processing\n",
    "frames = [laptop_train,laptop_test]\n",
    "df = pd.concat(frames)\n",
    "#Must do to keep from having duplicate indexes\n",
    "df.reset_index(drop=True, inplace=True)\n",
    "df.head()"
   ]
  },
  {
   "cell_type": "code",
   "execution_count": null,
   "metadata": {},
   "outputs": [],
   "source": [
    "# get the number of missing data points per column\n",
    "missing_values_count = df.isnull().sum()\n",
    "missing_values_count"
   ]
  },
  {
   "cell_type": "code",
   "execution_count": null,
   "metadata": {},
   "outputs": [],
   "source": [
    "#Data Exploration before Dropping Operating System Version column\n",
    "df['Operating System Version'].value_counts()\n",
    "\n",
    "df[df['Operating System Version'].isna()].groupby('Operating System').groups\n",
    "\n",
    "grouped = df.groupby('Operating System')\n",
    "\n",
    "for name,group in grouped:\n",
    "    print(name)\n",
    "    print(group['Operating System Version'].unique())\n"
   ]
  },
  {
   "cell_type": "code",
   "execution_count": null,
   "metadata": {},
   "outputs": [],
   "source": [
    "# Drop the Operating System Version because the laptop can just be updated by the user\n",
    "df = df.drop('Operating System Version', axis=1)"
   ]
  },
  {
   "cell_type": "code",
   "execution_count": null,
   "metadata": {},
   "outputs": [],
   "source": [
    "#Confirm Column drop\n",
    "df.columns"
   ]
  },
  {
   "attachments": {},
   "cell_type": "markdown",
   "metadata": {},
   "source": [
    "Data Preprocessing\n",
    "Course of Action:\n",
    "Manufacturer         Target Encoding\n",
    "Model Name           Split on the () into two columns- Target Encoding\n",
    "Category             One Hot Encoding\n",
    "Screen Size          Convert to float and scale (units is inches)\n",
    "Screen               Split into new features - screen type, screen quality, HD(Binary), Touchscreen(Binary)\n",
    "CPU                  Split into new features - Brand, Model Number, Speed\n",
    "RAM                  Remove \"GB\" and scale\n",
    "Storage              Convert to Total Storage column and scale\n",
    "GPU                  Split into new features - Brand, Model Number, Speed\n",
    "Operating System     One Hot Encoding (macOS = MacOS)\n",
    "Weight               Convert to lbs and scale (4s = 4.04 typo)\n",
    "Price                Convert to USD"
   ]
  },
  {
   "cell_type": "code",
   "execution_count": null,
   "metadata": {},
   "outputs": [],
   "source": [
    "\"\"\" Course of Action:\n",
    "Manufacturer         Target Encoding\n",
    "Model Name           Split on the () into two columns- Target Encoding\n",
    "Category             One Hot Encoding\n",
    "Screen Size          Convert to float and scale (units is inches)\n",
    "Screen               Split into new features - screen type, screen quality, HD(Binary), Touchscreen(Binary)\n",
    "CPU                  Split into new features - Brand, Model Number, Speed\n",
    "RAM                  Remove \"GB\" and scale\n",
    "Storage              Convert to Total Storage column and scale\n",
    "GPU                  Split into new features - Brand, Model Number, Speed\n",
    "Operating System     One Hot Encoding (macOS = MacOS)\n",
    "Weight               Convert to lbs and scale (4s = 4.04 typo)\n",
    "Price                Convert to USD \"\"\""
   ]
  },
  {
   "cell_type": "code",
   "execution_count": null,
   "metadata": {},
   "outputs": [],
   "source": [
    "df.dtypes"
   ]
  },
  {
   "cell_type": "code",
   "execution_count": null,
   "metadata": {},
   "outputs": [],
   "source": [
    "df[['Screen Size','Screen']]"
   ]
  },
  {
   "cell_type": "code",
   "execution_count": null,
   "metadata": {},
   "outputs": [],
   "source": [
    "#Treat Manufacturer as an nominal variable\n",
    "df['Manufacturer'].unique()"
   ]
  },
  {
   "cell_type": "code",
   "execution_count": null,
   "metadata": {},
   "outputs": [],
   "source": [
    "# gives a tuple of column name and series\n",
    "# for each column in the dataframe\n",
    "for (columnName, columnData) in df.items():\n",
    "    print('Column Name : ', columnName)\n",
    "    print('Column Contents : ', columnData.unique())"
   ]
  },
  {
   "cell_type": "code",
   "execution_count": null,
   "metadata": {},
   "outputs": [],
   "source": [
    "model_name = df['Model Name'].unique()\n",
    "model_name.sort()\n",
    "model_name"
   ]
  },
  {
   "cell_type": "code",
   "execution_count": null,
   "metadata": {},
   "outputs": [],
   "source": [
    "#Looking at the data redundancy in Model Name,CPU,RAM,Storage, and GPU for specific rows\n",
    "df[['Model Name','CPU']]"
   ]
  },
  {
   "cell_type": "code",
   "execution_count": null,
   "metadata": {},
   "outputs": [],
   "source": [
    "df[['Model Name','CPU','RAM','Storage', 'GPU']][df['Model Name'].str.contains('/')]"
   ]
  },
  {
   "cell_type": "code",
   "execution_count": null,
   "metadata": {},
   "outputs": [],
   "source": [
    "category = df['Category'].unique()\n",
    "category.sort()\n",
    "category"
   ]
  },
  {
   "cell_type": "code",
   "execution_count": null,
   "metadata": {},
   "outputs": [],
   "source": [
    "# gives a tuple of column name and series\n",
    "# for each column in the dataframe\n",
    "#Deciding which columns need to be Target Encoded or One Hot Encoded (cut off being > 15)\n",
    "for (columnName, columnData) in df.items():\n",
    "    print('Column Name : ', columnName)\n",
    "    print('Column Contents : ', columnData.nunique())"
   ]
  },
  {
   "attachments": {},
   "cell_type": "markdown",
   "metadata": {},
   "source": [
    "Data Exploration of each column"
   ]
  },
  {
   "cell_type": "code",
   "execution_count": null,
   "metadata": {},
   "outputs": [],
   "source": [
    "screen_size = df['Screen Size'].unique()\n",
    "screen_size.sort()\n",
    "screen_size"
   ]
  },
  {
   "cell_type": "code",
   "execution_count": null,
   "metadata": {},
   "outputs": [],
   "source": [
    "screen = df['Screen'].unique()\n",
    "screen.sort()\n",
    "print(df['Screen'].value_counts())\n",
    "screen"
   ]
  },
  {
   "cell_type": "code",
   "execution_count": null,
   "metadata": {},
   "outputs": [],
   "source": [
    "CPU = df['CPU'].unique()\n",
    "CPU.sort()\n",
    "print(df['CPU'].value_counts())\n",
    "CPU"
   ]
  },
  {
   "cell_type": "code",
   "execution_count": null,
   "metadata": {},
   "outputs": [],
   "source": [
    "RAM = df['RAM'].unique()\n",
    "RAM.sort()\n",
    "print(df['RAM'].value_counts())\n",
    "RAM"
   ]
  },
  {
   "cell_type": "code",
   "execution_count": 122,
   "metadata": {},
   "outputs": [
    {
     "name": "stdout",
     "output_type": "stream",
     "text": [
      "256GB SSD                        412\n",
      "1TB HDD                          224\n",
      "500GB HDD                        132\n",
      "512GB SSD                        118\n",
      "128GB SSD +  1TB HDD              94\n",
      "128GB SSD                         76\n",
      "256GB SSD +  1TB HDD              73\n",
      "32GB Flash Storage                38\n",
      "2TB HDD                           16\n",
      "64GB Flash Storage                15\n",
      "512GB SSD +  1TB HDD              14\n",
      "1TB SSD                           14\n",
      "256GB SSD +  2TB HDD              10\n",
      "1TB Hybrid                         9\n",
      "256GB Flash Storage                8\n",
      "16GB Flash Storage                 7\n",
      "32GB SSD                           6\n",
      "1GB SSD                            5\n",
      "128GB Flash Storage                4\n",
      "16GB SSD                           3\n",
      "512GB Flash Storage                2\n",
      "1TB SSD +  1TB HDD                 2\n",
      "512GB SSD +  2TB HDD               2\n",
      "256GB SSD +  500GB HDD             2\n",
      "128GB SSD +  2TB HDD               2\n",
      "256GB SSD +  256GB SSD             2\n",
      "512GB SSD +  256GB SSD             1\n",
      "512GB SSD +  512GB SSD             1\n",
      "64GB Flash Storage +  1TB HDD      1\n",
      "1TB HDD +  1TB HDD                 1\n",
      "32GB HDD                           1\n",
      "64GB SSD                           1\n",
      "128GB HDD                          1\n",
      "240GB SSD                          1\n",
      "8GB SSD                            1\n",
      "508GB Hybrid                       1\n",
      "512GB SSD +  1TB Hybrid            1\n",
      "256GB SSD +  1TB Hybrid            1\n",
      "Name: Storage, dtype: int64\n"
     ]
    },
    {
     "data": {
      "text/plain": [
       "array(['128GB Flash Storage', '128GB HDD', '128GB SSD',\n",
       "       '128GB SSD +  1TB HDD', '128GB SSD +  2TB HDD',\n",
       "       '16GB Flash Storage', '16GB SSD', '1GB SSD', '1TB HDD',\n",
       "       '1TB HDD +  1TB HDD', '1TB Hybrid', '1TB SSD',\n",
       "       '1TB SSD +  1TB HDD', '240GB SSD', '256GB Flash Storage',\n",
       "       '256GB SSD', '256GB SSD +  1TB HDD', '256GB SSD +  1TB Hybrid',\n",
       "       '256GB SSD +  256GB SSD', '256GB SSD +  2TB HDD',\n",
       "       '256GB SSD +  500GB HDD', '2TB HDD', '32GB Flash Storage',\n",
       "       '32GB HDD', '32GB SSD', '500GB HDD', '508GB Hybrid',\n",
       "       '512GB Flash Storage', '512GB SSD', '512GB SSD +  1TB HDD',\n",
       "       '512GB SSD +  1TB Hybrid', '512GB SSD +  256GB SSD',\n",
       "       '512GB SSD +  2TB HDD', '512GB SSD +  512GB SSD',\n",
       "       '64GB Flash Storage', '64GB Flash Storage +  1TB HDD', '64GB SSD',\n",
       "       '8GB SSD'], dtype=object)"
      ]
     },
     "execution_count": 122,
     "metadata": {},
     "output_type": "execute_result"
    }
   ],
   "source": [
    "storage = df['Storage'].unique()\n",
    "storage.sort()\n",
    "print(df['Storage'].value_counts())\n",
    "storage"
   ]
  },
  {
   "cell_type": "code",
   "execution_count": null,
   "metadata": {},
   "outputs": [],
   "source": [
    "GPU = df['GPU'].unique()\n",
    "GPU.sort()\n",
    "print(df['GPU'].value_counts())\n",
    "GPU"
   ]
  },
  {
   "cell_type": "code",
   "execution_count": null,
   "metadata": {},
   "outputs": [],
   "source": [
    "OS = df['Operating System'].unique()\n",
    "OS.sort()\n",
    "print(df['Operating System'].value_counts())\n",
    "OS"
   ]
  },
  {
   "cell_type": "code",
   "execution_count": null,
   "metadata": {},
   "outputs": [],
   "source": [
    "weight = df['Weight'].unique()\n",
    "weight.sort()\n",
    "print(df['Weight'].value_counts())\n",
    "weight"
   ]
  },
  {
   "cell_type": "code",
   "execution_count": null,
   "metadata": {},
   "outputs": [],
   "source": [
    "price = df['Price'].unique()\n",
    "price.sort()\n",
    "print(df['Price'].value_counts())\n",
    "price"
   ]
  },
  {
   "cell_type": "code",
   "execution_count": null,
   "metadata": {},
   "outputs": [],
   "source": [
    "df.columns"
   ]
  },
  {
   "cell_type": "code",
   "execution_count": null,
   "metadata": {},
   "outputs": [],
   "source": [
    "#1 INR = 0.012203 USD Conversion Rate as of May 10,2023\n",
    "#Unit Conversion for Price Column\n",
    "df['Price_USD'] = df.Price/81.9433\n",
    "df[['Price','Price_USD']]"
   ]
  },
  {
   "cell_type": "code",
   "execution_count": null,
   "metadata": {},
   "outputs": [],
   "source": [
    "#4s is a typo. Google search the weight of the laptop\n",
    "df.Weight = df.Weight.replace('4s','4.04')\n",
    "df.Weight = df.Weight.str.replace('kg','')\n",
    "df.Weight = df.Weight.astype(float)\n",
    "#Unit Conversion for Weight Column\n",
    "df['Weight_LBS'] = df.Weight*2.204623\n",
    "df[['Weight','Weight_LBS']]"
   ]
  },
  {
   "cell_type": "code",
   "execution_count": null,
   "metadata": {},
   "outputs": [],
   "source": [
    "#Operating System Typo\n",
    "df['Operating System'] = df['Operating System'].replace('macOS','Mac OS')"
   ]
  },
  {
   "cell_type": "code",
   "execution_count": null,
   "metadata": {},
   "outputs": [],
   "source": [
    "df.RAM = df.RAM.str.replace('GB','')\n",
    "df.RAM = df.RAM.astype(int)\n",
    "df['RAM']"
   ]
  },
  {
   "cell_type": "code",
   "execution_count": null,
   "metadata": {},
   "outputs": [],
   "source": [
    "#Remove Leading Space in Column Name\n",
    "df.rename(columns = {' Storage':'Storage'}, inplace = True)"
   ]
  },
  {
   "cell_type": "code",
   "execution_count": null,
   "metadata": {},
   "outputs": [],
   "source": [
    "#Converting from string to float\n",
    "df['Screen Size'] = df['Screen Size'].str.replace('\"','')\n",
    "df['Screen Size'] = df['Screen Size'].astype(float)\n",
    "df['Screen Size']"
   ]
  },
  {
   "cell_type": "code",
   "execution_count": 143,
   "metadata": {},
   "outputs": [
    {
     "name": "stdout",
     "output_type": "stream",
     "text": [
      "<class 'pandas.core.series.Series'>\n",
      "RangeIndex: 1302 entries, 0 to 1301\n",
      "Series name: Storage\n",
      "Non-Null Count  Dtype \n",
      "--------------  ----- \n",
      "1302 non-null   object\n",
      "dtypes: object(1)\n",
      "memory usage: 10.3+ KB\n"
     ]
    }
   ],
   "source": [
    "df.info()"
   ]
  },
  {
   "cell_type": "code",
   "execution_count": 148,
   "metadata": {},
   "outputs": [
    {
     "name": "stderr",
     "output_type": "stream",
     "text": [
      "C:\\Users\\AGJHINSO\\AppData\\Local\\Temp\\ipykernel_19472\\212465800.py:7: FutureWarning: The default value of regex will change from True to False in a future version. In addition, single character regular expressions will *not* be treated as literal strings when regex=True.\n",
      "  df['Storage'] = df.Storage.str.replace('+','')\n"
     ]
    },
    {
     "data": {
      "text/plain": [
       "0        128GB \n",
       "1       128GB  \n",
       "2        256GB \n",
       "3        512GB \n",
       "4        256GB \n",
       "         ...   \n",
       "1297     128GB \n",
       "1298     512GB \n",
       "1299     64GB  \n",
       "1300       1TB \n",
       "1301     500GB \n",
       "Name: Storage, Length: 1302, dtype: object"
      ]
     },
     "execution_count": 148,
     "metadata": {},
     "output_type": "execute_result"
    }
   ],
   "source": [
    "#,'Flash':'','HDD':'','Hybrid':'','Storage':'','+':''\n",
    "#df['Storage'] = df.Storage.str.replace('SSD','')\n",
    "df['Storage'] = df.Storage.str.replace('Flash','')\n",
    "df['Storage'] = df.Storage.str.replace('HDD','')\n",
    "df['Storage'] = df.Storage.str.replace('Hybrid','')\n",
    "df['Storage'] = df.Storage.str.replace('Storage','')\n",
    "df['Storage'] = df.Storage.str.replace('+','')\n",
    "df.Storage"
   ]
  },
  {
   "cell_type": "code",
   "execution_count": 149,
   "metadata": {},
   "outputs": [],
   "source": [
    "storage_df = df.Storage.str.split(\" \", expand=True)"
   ]
  },
  {
   "cell_type": "code",
   "execution_count": 160,
   "metadata": {},
   "outputs": [
    {
     "name": "stdout",
     "output_type": "stream",
     "text": [
      "Column Name :  0\n",
      "Column Contents :  ['128GB' '256GB' '512GB' '500GB' '1TB' '32GB' '64GB' '2TB' '16GB' '1GB'\n",
      " '240GB' '8GB' '508GB']\n",
      "Column Name :  4\n",
      "Column Contents :  [None '1TB' '256GB' '2TB' '500GB' '512GB' '']\n",
      "Column Name :  5\n",
      "Column Contents :  [None '' '1TB']\n"
     ]
    }
   ],
   "source": [
    "for (columnName, columnData) in storage_df.items():\n",
    "    print('Column Name : ', columnName)\n",
    "    print('Column Contents : ', columnData.unique())"
   ]
  },
  {
   "cell_type": "code",
   "execution_count": 159,
   "metadata": {},
   "outputs": [
    {
     "data": {
      "text/html": [
       "<div>\n",
       "<style scoped>\n",
       "    .dataframe tbody tr th:only-of-type {\n",
       "        vertical-align: middle;\n",
       "    }\n",
       "\n",
       "    .dataframe tbody tr th {\n",
       "        vertical-align: top;\n",
       "    }\n",
       "\n",
       "    .dataframe thead th {\n",
       "        text-align: right;\n",
       "    }\n",
       "</style>\n",
       "<table border=\"1\" class=\"dataframe\">\n",
       "  <thead>\n",
       "    <tr style=\"text-align: right;\">\n",
       "      <th></th>\n",
       "      <th>0</th>\n",
       "      <th>4</th>\n",
       "      <th>5</th>\n",
       "    </tr>\n",
       "  </thead>\n",
       "  <tbody>\n",
       "    <tr>\n",
       "      <th>0</th>\n",
       "      <td>128GB</td>\n",
       "      <td>None</td>\n",
       "      <td>None</td>\n",
       "    </tr>\n",
       "    <tr>\n",
       "      <th>1</th>\n",
       "      <td>128GB</td>\n",
       "      <td>None</td>\n",
       "      <td>None</td>\n",
       "    </tr>\n",
       "    <tr>\n",
       "      <th>2</th>\n",
       "      <td>256GB</td>\n",
       "      <td>None</td>\n",
       "      <td>None</td>\n",
       "    </tr>\n",
       "    <tr>\n",
       "      <th>3</th>\n",
       "      <td>512GB</td>\n",
       "      <td>None</td>\n",
       "      <td>None</td>\n",
       "    </tr>\n",
       "    <tr>\n",
       "      <th>4</th>\n",
       "      <td>256GB</td>\n",
       "      <td>None</td>\n",
       "      <td>None</td>\n",
       "    </tr>\n",
       "    <tr>\n",
       "      <th>5</th>\n",
       "      <td>500GB</td>\n",
       "      <td>None</td>\n",
       "      <td>None</td>\n",
       "    </tr>\n",
       "    <tr>\n",
       "      <th>6</th>\n",
       "      <td>256GB</td>\n",
       "      <td>None</td>\n",
       "      <td>None</td>\n",
       "    </tr>\n",
       "    <tr>\n",
       "      <th>7</th>\n",
       "      <td>256GB</td>\n",
       "      <td>None</td>\n",
       "      <td>None</td>\n",
       "    </tr>\n",
       "    <tr>\n",
       "      <th>8</th>\n",
       "      <td>512GB</td>\n",
       "      <td>None</td>\n",
       "      <td>None</td>\n",
       "    </tr>\n",
       "    <tr>\n",
       "      <th>9</th>\n",
       "      <td>256GB</td>\n",
       "      <td>None</td>\n",
       "      <td>None</td>\n",
       "    </tr>\n",
       "  </tbody>\n",
       "</table>\n",
       "</div>"
      ],
      "text/plain": [
       "       0     4     5\n",
       "0  128GB  None  None\n",
       "1  128GB  None  None\n",
       "2  256GB  None  None\n",
       "3  512GB  None  None\n",
       "4  256GB  None  None\n",
       "5  500GB  None  None\n",
       "6  256GB  None  None\n",
       "7  256GB  None  None\n",
       "8  512GB  None  None\n",
       "9  256GB  None  None"
      ]
     },
     "execution_count": 159,
     "metadata": {},
     "output_type": "execute_result"
    }
   ],
   "source": [
    "storage_df.head(10)"
   ]
  },
  {
   "cell_type": "code",
   "execution_count": 158,
   "metadata": {},
   "outputs": [],
   "source": [
    "storage_df.drop([1,2,3,6],axis=1,inplace=True)"
   ]
  },
  {
   "cell_type": "code",
   "execution_count": 162,
   "metadata": {},
   "outputs": [],
   "source": [
    "storage_df2 = storage_df.replace('', 0, regex=True)"
   ]
  },
  {
   "cell_type": "code",
   "execution_count": 163,
   "metadata": {},
   "outputs": [],
   "source": [
    "storage_df2 = storage_df2.fillna(0)"
   ]
  },
  {
   "cell_type": "code",
   "execution_count": 166,
   "metadata": {},
   "outputs": [
    {
     "name": "stdout",
     "output_type": "stream",
     "text": [
      "Column Name :  0\n",
      "Column Contents :  ['128GB' '256GB' '512GB' '500GB' '1TB' '32GB' '64GB' '2TB' '16GB' '1GB'\n",
      " '240GB' '8GB' '508GB']\n",
      "Column Name :  4\n",
      "Column Contents :  [0 '1TB' '256GB' '2TB' '500GB' '512GB']\n",
      "Column Name :  5\n",
      "Column Contents :  [0 '1TB']\n"
     ]
    }
   ],
   "source": [
    "for (columnName, columnData) in storage_df2.items():\n",
    "    print('Column Name : ', columnName)\n",
    "    print('Column Contents : ', columnData.unique())"
   ]
  },
  {
   "cell_type": "code",
   "execution_count": 169,
   "metadata": {},
   "outputs": [],
   "source": [
    "storage_df3 = storage_df2"
   ]
  },
  {
   "cell_type": "code",
   "execution_count": 173,
   "metadata": {},
   "outputs": [
    {
     "ename": "MemoryError",
     "evalue": "",
     "output_type": "error",
     "traceback": [
      "\u001b[1;31m---------------------------------------------------------------------------\u001b[0m",
      "\u001b[1;31mMemoryError\u001b[0m                               Traceback (most recent call last)",
      "Cell \u001b[1;32mIn[173], line 5\u001b[0m\n\u001b[0;32m      3\u001b[0m \u001b[39mif\u001b[39;00m \u001b[39m'\u001b[39m\u001b[39mGB\u001b[39m\u001b[39m'\u001b[39m \u001b[39min\u001b[39;00m x:\n\u001b[0;32m      4\u001b[0m     num \u001b[39m=\u001b[39m re\u001b[39m.\u001b[39mfindall(\u001b[39mr\u001b[39m\u001b[39m'\u001b[39m\u001b[39m\\\u001b[39m\u001b[39md+\u001b[39m\u001b[39m'\u001b[39m, x)\n\u001b[1;32m----> 5\u001b[0m     \u001b[39mprint\u001b[39m(num[\u001b[39m0\u001b[39;49m]\u001b[39m*\u001b[39;49m(\u001b[39m1024\u001b[39;49m \u001b[39m*\u001b[39;49m \u001b[39m1024\u001b[39;49m \u001b[39m*\u001b[39;49m \u001b[39m1024\u001b[39;49m))\n\u001b[0;32m      6\u001b[0m \u001b[39melif\u001b[39;00m \u001b[39m'\u001b[39m\u001b[39mTB\u001b[39m\u001b[39m'\u001b[39m \u001b[39min\u001b[39;00m x:\n\u001b[0;32m      7\u001b[0m     num \u001b[39m=\u001b[39m re\u001b[39m.\u001b[39mfindall(\u001b[39mr\u001b[39m\u001b[39m'\u001b[39m\u001b[39m\\\u001b[39m\u001b[39md+\u001b[39m\u001b[39m'\u001b[39m, x)\n",
      "\u001b[1;31mMemoryError\u001b[0m: "
     ]
    }
   ],
   "source": [
    "import re\n",
    "for x in storage_df2[0]:\n",
    "    if 'GB' in x:\n",
    "        num = re.findall(r'\\d+', x)\n",
    "        print(num[0]*(1024 * 1024 * 1024))\n",
    "    elif 'TB' in x:\n",
    "        num = re.findall(r'\\d+', x)\n",
    "        print(num[0]*(1024 * 1024 * 1024 * 1024))\n",
    "    else:\n",
    "        pass"
   ]
  },
  {
   "cell_type": "code",
   "execution_count": 155,
   "metadata": {},
   "outputs": [
    {
     "name": "stdout",
     "output_type": "stream",
     "text": [
      "2\n"
     ]
    }
   ],
   "source": [
    "#Drop all the empty columns\n",
    "#Fill the None values with 0\n",
    "#Convert all other items to bytes, add them together, then convert to TB\n",
    "import re\n",
    "\n",
    "num = re.findall(r'\\d+', '2GB')\n",
    "\n",
    "print(num[0])\n"
   ]
  },
  {
   "cell_type": "code",
   "execution_count": 146,
   "metadata": {},
   "outputs": [],
   "source": [
    "df = pd.read_csv('datasets/laptops_preprocessed.csv', index_col=0)"
   ]
  },
  {
   "cell_type": "code",
   "execution_count": null,
   "metadata": {},
   "outputs": [],
   "source": [
    "df.to_csv('datasets/laptops_preprocessed.csv',index=False)"
   ]
  }
 ],
 "metadata": {
  "kernelspec": {
   "display_name": "Python 3",
   "language": "python",
   "name": "python3"
  },
  "language_info": {
   "codemirror_mode": {
    "name": "ipython",
    "version": 3
   },
   "file_extension": ".py",
   "mimetype": "text/x-python",
   "name": "python",
   "nbconvert_exporter": "python",
   "pygments_lexer": "ipython3",
   "version": "3.10.9"
  },
  "orig_nbformat": 4,
  "vscode": {
   "interpreter": {
    "hash": "173cd4c2288a411e28ef7d2bae2d3dec891b6be7ab06c2342038e4428c43a100"
   }
  }
 },
 "nbformat": 4,
 "nbformat_minor": 2
}
